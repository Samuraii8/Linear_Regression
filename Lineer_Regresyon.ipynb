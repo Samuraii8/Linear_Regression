{
 "cells": [
  {
   "cell_type": "markdown",
   "id": "2e24a4ed",
   "metadata": {},
   "source": [
    "y = a.x+b\n",
    "y burada tahmin etmeye çalıştığımız bağımlı değişkendir\n",
    "x bağımsız değişkendir\n",
    "b, y kesme noktasıdır, yeni x 0 oldugunda y'nin değeridir.\n",
    "a, x'teki bir birimlik değişiklik için y'deki değişikliği temsil eden doğrunun eğimidir.\n"
   ]
  },
  {
   "cell_type": "markdown",
   "id": "151364f1",
   "metadata": {},
   "source": [
    "Numpy ile Veri Oluşturma"
   ]
  },
  {
   "cell_type": "code",
   "execution_count": null,
   "id": "469e48d7",
   "metadata": {},
   "outputs": [],
   "source": [
    "import numpy as np\n",
    "import matplotlib.pyplot as plt\n",
    "from ipywidgets import interactive\n",
    "\n",
    "np.random.seed(42)"
   ]
  },
  {
   "cell_type": "code",
   "execution_count": null,
   "id": "fe91e102",
   "metadata": {},
   "outputs": [],
   "source": [
    "x = 2 * np.random.rand(100,1) \n",
    "y = 3 * x + 4 + np.random.randn(100,1) #3x + 4"
   ]
  },
  {
   "cell_type": "code",
   "execution_count": null,
   "id": "4bd095e9",
   "metadata": {},
   "outputs": [],
   "source": [
    "plt.scatter(x, y, label='Data points' , color='blue')\n",
    "plt.plot(x,3 * x + 4, label=\"Equation\", color='red')\n",
    "plt.legend()\n",
    "plt.show()"
   ]
  },
  {
   "cell_type": "code",
   "execution_count": null,
   "id": "df5e5250",
   "metadata": {},
   "outputs": [],
   "source": [
    "def plot_func(a,b):\n",
    "    plt.scatter(x, y, label='Data points' , color='blue')\n",
    "    plt.plot(x,a * x + b, label=\"Equation\", color='red')\n",
    "    plt.xlabel('x',fontsize=16)\n",
    "    plt.ylabel('y',fontsize=16)\n",
    "    plt.title(f'y = {a:.2f} * x + {b:.2f}', fontsize=20)\n",
    "    plt.legend()\n",
    "    plt.show()"
   ]
  },
  {
   "cell_type": "code",
   "execution_count": null,
   "id": "17ec7dfa",
   "metadata": {},
   "outputs": [],
   "source": [
    "interactive(plot_func ,a=(-5,5,0.1) , b=(-5,5,0.1))"
   ]
  },
  {
   "cell_type": "markdown",
   "id": "41cd1891",
   "metadata": {},
   "source": [
    "## Sklearn Linear Regression"
   ]
  },
  {
   "cell_type": "code",
   "execution_count": null,
   "id": "e29c9ee8",
   "metadata": {},
   "outputs": [],
   "source": [
    "from sklearn.linear_model import LinearRegression\n",
    "\n",
    "model = LinearRegression()"
   ]
  },
  {
   "cell_type": "code",
   "execution_count": null,
   "id": "86259a0e",
   "metadata": {},
   "outputs": [],
   "source": [
    "model.fit(x, y)"
   ]
  },
  {
   "cell_type": "code",
   "execution_count": null,
   "id": "79fc291e",
   "metadata": {},
   "outputs": [],
   "source": [
    "model.coef_, model.intercept_"
   ]
  },
  {
   "cell_type": "code",
   "execution_count": null,
   "id": "e4d137b0",
   "metadata": {},
   "outputs": [],
   "source": [
    "model.predict([[1]])"
   ]
  },
  {
   "cell_type": "code",
   "execution_count": null,
   "id": "16e245a6",
   "metadata": {},
   "outputs": [],
   "source": [
    "x_input = 1 # modellnen denklem a * x + b\n",
    "# a = model.coef_\n",
    "# b = model.intercept_\n",
    "model.coef_ * x_input + model.intercept_"
   ]
  },
  {
   "cell_type": "code",
   "execution_count": null,
   "id": "b5002031",
   "metadata": {},
   "outputs": [],
   "source": [
    "#np.linalg.lstsq(x, y, rcond=None) sklerarn kaynak kodunda bu kullanılıyor"
   ]
  },
  {
   "cell_type": "markdown",
   "id": "b307b843",
   "metadata": {},
   "source": [
    "## Ev fiyatları data seti yüklenmesi ve Linear Regression uygulanması"
   ]
  },
  {
   "cell_type": "code",
   "execution_count": null,
   "id": "271cb67d",
   "metadata": {},
   "outputs": [],
   "source": [
    "from sklearn.datasets import fetch_openml\n",
    "housing = fetch_openml(name='house_prices', as_frame=True)\n"
   ]
  },
  {
   "cell_type": "code",
   "execution_count": null,
   "id": "6e77c132",
   "metadata": {},
   "outputs": [],
   "source": [
    "X = housing.data\n",
    "y = housing.target\n",
    "X"
   ]
  },
  {
   "cell_type": "code",
   "execution_count": null,
   "id": "6f8178f9",
   "metadata": {},
   "outputs": [],
   "source": [
    "X.iloc[0]"
   ]
  },
  {
   "cell_type": "code",
   "execution_count": null,
   "id": "d2359721",
   "metadata": {},
   "outputs": [],
   "source": [
    "y[0]"
   ]
  },
  {
   "cell_type": "code",
   "execution_count": null,
   "id": "53548b77",
   "metadata": {},
   "outputs": [],
   "source": [
    "from sklearn.model_selection import train_test_split"
   ]
  },
  {
   "cell_type": "code",
   "execution_count": null,
   "id": "89279986",
   "metadata": {},
   "outputs": [],
   "source": [
    "\"\"\"test size, veri setinin boyutuna göre her\n",
    " pipeline veya problemde\n",
    " değikiklik gösterebilir.\n",
    " 1M Satır veri varsa test_size = 0.01 olabilir\"\"\"\n",
    "\n",
    "X_train, X_test, y_train, y_test = train_test_split(X, y, test_size=0.2, random_state=42 , shuffle=True)"
   ]
  },
  {
   "cell_type": "code",
   "execution_count": null,
   "id": "c3bb4f38",
   "metadata": {},
   "outputs": [],
   "source": [
    "X_train"
   ]
  },
  {
   "cell_type": "code",
   "execution_count": null,
   "id": "dcd4b7ed",
   "metadata": {},
   "outputs": [],
   "source": [
    "X_test"
   ]
  },
  {
   "cell_type": "code",
   "execution_count": null,
   "id": "5d40feac",
   "metadata": {},
   "outputs": [],
   "source": [
    "y_train"
   ]
  },
  {
   "cell_type": "markdown",
   "id": "ebc78dc1",
   "metadata": {},
   "source": [
    "## Veri Seti Ön işleme"
   ]
  },
  {
   "cell_type": "code",
   "execution_count": null,
   "id": "9370dac0",
   "metadata": {},
   "outputs": [],
   "source": [
    "model = LinearRegression()"
   ]
  },
  {
   "cell_type": "code",
   "execution_count": null,
   "id": "7a4a87ab",
   "metadata": {},
   "outputs": [],
   "source": [
    "X_train.info()"
   ]
  },
  {
   "cell_type": "code",
   "execution_count": null,
   "id": "46c9ff07",
   "metadata": {},
   "outputs": [],
   "source": [
    "from sklearn.preprocessing import OrdinalEncoder\n",
    "from sklearn.impute import SimpleImputer"
   ]
  },
  {
   "cell_type": "code",
   "execution_count": null,
   "id": "ec98a58f",
   "metadata": {},
   "outputs": [],
   "source": [
    "categorical_columns = list(X_train.select_dtypes(include=['object']).columns)\n",
    "numerical_columns = list(X_train.select_dtypes(include=[\"int64\",\"float64\"]))"
   ]
  },
  {
   "cell_type": "code",
   "execution_count": null,
   "id": "44108b5c",
   "metadata": {},
   "outputs": [],
   "source": [
    "X_train[[\"MasVnrArea\"]].median()"
   ]
  },
  {
   "cell_type": "code",
   "execution_count": null,
   "id": "8ac5d11a",
   "metadata": {},
   "outputs": [],
   "source": [
    "len(categorical_columns + numerical_columns)"
   ]
  },
  {
   "cell_type": "code",
   "execution_count": 80,
   "id": "fc188253",
   "metadata": {},
   "outputs": [],
   "source": [
    "encoder = OrdinalEncoder()\n",
    "numerical_imputer = SimpleImputer(strategy='median')\n",
    "categorical_imputer = SimpleImputer(strategy='most-frequent')"
   ]
  },
  {
   "cell_type": "code",
   "execution_count": 81,
   "id": "45ee028b",
   "metadata": {},
   "outputs": [],
   "source": [
    "X_train[numerical_columns] = numerical_imputer.fit_transform(X_train[numerical_columns])"
   ]
  },
  {
   "cell_type": "code",
   "execution_count": null,
   "id": "a7c77ce8",
   "metadata": {},
   "outputs": [
    {
     "data": {
      "text/plain": [
       "MSZoning            0\n",
       "Street              0\n",
       "Alley            1094\n",
       "LotShape            0\n",
       "LandContour         0\n",
       "Utilities           0\n",
       "LotConfig           0\n",
       "LandSlope           0\n",
       "Neighborhood        0\n",
       "Condition1          0\n",
       "Condition2          0\n",
       "BldgType            0\n",
       "HouseStyle          0\n",
       "RoofStyle           0\n",
       "RoofMatl            0\n",
       "Exterior1st         0\n",
       "Exterior2nd         0\n",
       "MasVnrType          6\n",
       "ExterQual           0\n",
       "ExterCond           0\n",
       "Foundation          0\n",
       "BsmtQual           28\n",
       "BsmtCond           28\n",
       "BsmtExposure       28\n",
       "BsmtFinType1       28\n",
       "BsmtFinType2       28\n",
       "Heating             0\n",
       "HeatingQC           0\n",
       "CentralAir          0\n",
       "Electrical          1\n",
       "KitchenQual         0\n",
       "Functional          0\n",
       "FireplaceQu       547\n",
       "GarageType         64\n",
       "GarageFinish       64\n",
       "GarageQual         64\n",
       "GarageCond         64\n",
       "PavedDrive          0\n",
       "PoolQC           1162\n",
       "Fence             935\n",
       "MiscFeature      1122\n",
       "SaleType            0\n",
       "SaleCondition       0\n",
       "dtype: int64"
      ]
     },
     "execution_count": 82,
     "metadata": {},
     "output_type": "execute_result"
    }
   ],
   "source": [
    "X_train[numerical_columns].isna().sum()"
   ]
  },
  {
   "cell_type": "code",
   "execution_count": null,
   "id": "55883a92",
   "metadata": {},
   "outputs": [],
   "source": []
  },
  {
   "cell_type": "code",
   "execution_count": null,
   "id": "17bc3258",
   "metadata": {},
   "outputs": [],
   "source": []
  }
 ],
 "metadata": {
  "kernelspec": {
   "display_name": "Python 3",
   "language": "python",
   "name": "python3"
  },
  "language_info": {
   "codemirror_mode": {
    "name": "ipython",
    "version": 3
   },
   "file_extension": ".py",
   "mimetype": "text/x-python",
   "name": "python",
   "nbconvert_exporter": "python",
   "pygments_lexer": "ipython3",
   "version": "3.12.7"
  }
 },
 "nbformat": 4,
 "nbformat_minor": 5
}
